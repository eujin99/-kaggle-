{
  "metadata": {
    "kernelspec": {
      "display_name": "Python 3",
      "name": "python3"
    },
    "language_info": {
      "name": "python",
      "version": "3.10.13",
      "mimetype": "text/x-python",
      "codemirror_mode": {
        "name": "ipython",
        "version": 3
      },
      "pygments_lexer": "ipython3",
      "nbconvert_exporter": "python",
      "file_extension": ".py"
    },
    "kaggle": {
      "accelerator": "none",
      "dataSources": [
        {
          "sourceId": 76727,
          "databundleVersionId": 9045607,
          "sourceType": "competition"
        }
      ],
      "dockerImageVersionId": 30746,
      "isInternetEnabled": false,
      "language": "python",
      "sourceType": "notebook",
      "isGpuEnabled": false
    },
    "colab": {
      "name": "Test_eu",
      "provenance": [],
      "gpuType": "L4",
      "include_colab_link": true
    },
    "accelerator": "GPU"
  },
  "nbformat_minor": 0,
  "nbformat": 4,
  "cells": [
    {
      "cell_type": "markdown",
      "metadata": {
        "id": "view-in-github",
        "colab_type": "text"
      },
      "source": [
        "<a href=\"https://colab.research.google.com/github/eujin99/Kaggle-PS4E8/blob/main/Test_eu.ipynb\" target=\"_parent\"><img src=\"https://colab.research.google.com/assets/colab-badge.svg\" alt=\"Open In Colab\"/></a>"
      ]
    },
    {
      "source": [
        "\n",
        "# IMPORTANT: RUN THIS CELL IN ORDER TO IMPORT YOUR KAGGLE DATA SOURCES\n",
        "# TO THE CORRECT LOCATION (/kaggle/input) IN YOUR NOTEBOOK,\n",
        "# THEN FEEL FREE TO DELETE THIS CELL.\n",
        "# NOTE: THIS NOTEBOOK ENVIRONMENT DIFFERS FROM KAGGLE'S PYTHON\n",
        "# ENVIRONMENT SO THERE MAY BE MISSING LIBRARIES USED BY YOUR\n",
        "# NOTEBOOK.\n",
        "\n",
        "import os\n",
        "import sys\n",
        "from tempfile import NamedTemporaryFile\n",
        "from urllib.request import urlopen\n",
        "from urllib.parse import unquote, urlparse\n",
        "from urllib.error import HTTPError\n",
        "from zipfile import ZipFile\n",
        "import tarfile\n",
        "import shutil\n",
        "\n",
        "CHUNK_SIZE = 40960\n",
        "DATA_SOURCE_MAPPING = 'playground-series-s4e8:https%3A%2F%2Fstorage.googleapis.com%2Fkaggle-competitions-data%2Fkaggle-v2%2F76727%2F9045607%2Fbundle%2Farchive.zip%3FX-Goog-Algorithm%3DGOOG4-RSA-SHA256%26X-Goog-Credential%3Dgcp-kaggle-com%2540kaggle-161607.iam.gserviceaccount.com%252F20240821%252Fauto%252Fstorage%252Fgoog4_request%26X-Goog-Date%3D20240821T161806Z%26X-Goog-Expires%3D259200%26X-Goog-SignedHeaders%3Dhost%26X-Goog-Signature%3D78d24a3d2925902e60723c9088cc4263841a0d3f7c0b590128650d5ef36b54596d83358f623c5b7ae4807ee77d1fc86bb660c2ef64509efc9e02c2ec24267e4336c3cd88e20b907596fa7533d22243d5e03af171c615dd4a68c952f89285c60625f8d43c007613a3542742e11ae7dfe74eb80f83d6b957ffe830ac7a0ee6d7e0927758d07e4aaa3bd880a7b276f7157e20dd3a923efda1f2e6c7a51029938a55bf3f87d8910f70f02aadddf28ca07849699460f6f5cb1329a77db104a184ef53c9e948792b7c4275af0072d9d36a7f3a0ba786688a4711b9baa7e6fa0b54488f70d3bf18d6d152ebaa14bd658768f58ef643cbc4128690f476bc9b99228a36be'\n",
        "\n",
        "KAGGLE_INPUT_PATH='/kaggle/input'\n",
        "KAGGLE_WORKING_PATH='/kaggle/working'\n",
        "KAGGLE_SYMLINK='kaggle'\n",
        "\n",
        "!umount /kaggle/input/ 2> /dev/null\n",
        "shutil.rmtree('/kaggle/input', ignore_errors=True)\n",
        "os.makedirs(KAGGLE_INPUT_PATH, 0o777, exist_ok=True)\n",
        "os.makedirs(KAGGLE_WORKING_PATH, 0o777, exist_ok=True)\n",
        "\n",
        "try:\n",
        "  os.symlink(KAGGLE_INPUT_PATH, os.path.join(\"..\", 'input'), target_is_directory=True)\n",
        "except FileExistsError:\n",
        "  pass\n",
        "try:\n",
        "  os.symlink(KAGGLE_WORKING_PATH, os.path.join(\"..\", 'working'), target_is_directory=True)\n",
        "except FileExistsError:\n",
        "  pass\n",
        "\n",
        "for data_source_mapping in DATA_SOURCE_MAPPING.split(','):\n",
        "    directory, download_url_encoded = data_source_mapping.split(':')\n",
        "    download_url = unquote(download_url_encoded)\n",
        "    filename = urlparse(download_url).path\n",
        "    destination_path = os.path.join(KAGGLE_INPUT_PATH, directory)\n",
        "    try:\n",
        "        with urlopen(download_url) as fileres, NamedTemporaryFile() as tfile:\n",
        "            total_length = fileres.headers['content-length']\n",
        "            print(f'Downloading {directory}, {total_length} bytes compressed')\n",
        "            dl = 0\n",
        "            data = fileres.read(CHUNK_SIZE)\n",
        "            while len(data) > 0:\n",
        "                dl += len(data)\n",
        "                tfile.write(data)\n",
        "                done = int(50 * dl / int(total_length))\n",
        "                sys.stdout.write(f\"\\r[{'=' * done}{' ' * (50-done)}] {dl} bytes downloaded\")\n",
        "                sys.stdout.flush()\n",
        "                data = fileres.read(CHUNK_SIZE)\n",
        "            if filename.endswith('.zip'):\n",
        "              with ZipFile(tfile) as zfile:\n",
        "                zfile.extractall(destination_path)\n",
        "            else:\n",
        "              with tarfile.open(tfile.name) as tarfile:\n",
        "                tarfile.extractall(destination_path)\n",
        "            print(f'\\nDownloaded and uncompressed: {directory}')\n",
        "    except HTTPError as e:\n",
        "        print(f'Failed to load (likely expired) {download_url} to path {destination_path}')\n",
        "        continue\n",
        "    except OSError as e:\n",
        "        print(f'Failed to load {download_url} to path {destination_path}')\n",
        "        continue\n",
        "\n",
        "print('Data source import complete.')\n"
      ],
      "metadata": {
        "colab": {
          "base_uri": "https://localhost:8080/"
        },
        "id": "hIGITgyBxZrs",
        "outputId": "88d7598a-2238-42ac-891d-bba89524979c"
      },
      "cell_type": "code",
      "outputs": [
        {
          "output_type": "stream",
          "name": "stdout",
          "text": [
            "Downloading playground-series-s4e8, 86301661 bytes compressed\n",
            "[==================================================] 86301661 bytes downloaded\n",
            "Downloaded and uncompressed: playground-series-s4e8\n",
            "Data source import complete.\n"
          ]
        }
      ],
      "execution_count": 1
    },
    {
      "cell_type": "code",
      "source": [
        "# 1. 라이브러리\n",
        "import pandas as pd\n",
        "import numpy as np\n",
        "import seaborn as sns\n",
        "import matplotlib.pyplot as plt\n",
        "from sklearn.preprocessing import LabelEncoder, StandardScaler\n",
        "from sklearn.model_selection import train_test_split\n",
        "from xgboost import XGBClassifier\n",
        "from sklearn.metrics import accuracy_score, matthews_corrcoef\n",
        "from imblearn.over_sampling import SMOTE\n",
        "import warnings"
      ],
      "metadata": {
        "execution": {
          "iopub.status.busy": "2024-08-21T16:11:54.481783Z",
          "iopub.execute_input": "2024-08-21T16:11:54.482266Z",
          "iopub.status.idle": "2024-08-21T16:11:58.722071Z",
          "shell.execute_reply.started": "2024-08-21T16:11:54.482229Z",
          "shell.execute_reply": "2024-08-21T16:11:58.720604Z"
        },
        "trusted": true,
        "id": "Vxb73IqvxZrt"
      },
      "execution_count": 2,
      "outputs": []
    },
    {
      "cell_type": "code",
      "source": [
        "warnings.filterwarnings(\"ignore\")"
      ],
      "metadata": {
        "execution": {
          "iopub.status.busy": "2024-08-21T16:11:58.724456Z",
          "iopub.execute_input": "2024-08-21T16:11:58.72545Z",
          "iopub.status.idle": "2024-08-21T16:11:58.732941Z",
          "shell.execute_reply.started": "2024-08-21T16:11:58.725406Z",
          "shell.execute_reply": "2024-08-21T16:11:58.731569Z"
        },
        "trusted": true,
        "id": "c0WZ3myRxZrt"
      },
      "execution_count": 3,
      "outputs": []
    },
    {
      "cell_type": "code",
      "source": [
        "# 2. 데이터 로드 및 기본 정보 확인\n",
        "dirs = {\n",
        "    \"input\": \"/kaggle/input/playground-series-s4e8/\",\n",
        "    \"output\": \"/kaggle/working/\"\n",
        "}\n",
        "\n",
        "files = {\n",
        "    \"train\": \"train.csv\",\n",
        "    \"test\": \"test.csv\",\n",
        "    \"sample_submission\": \"sample_submission.csv\",\n",
        "    \"submission\": \"submission.csv\"\n",
        "}\n",
        "\n",
        "df_train = pd.read_csv(dirs[\"input\"] + files[\"train\"])\n",
        "df_test = pd.read_csv(dirs[\"input\"] + files[\"test\"])\n",
        "\n",
        "print(f\"Train data shape: {df_train.shape}\")\n",
        "print(f\"Test data shape: {df_test.shape}\")"
      ],
      "metadata": {
        "execution": {
          "iopub.status.busy": "2024-08-21T16:11:58.734571Z",
          "iopub.execute_input": "2024-08-21T16:11:58.735036Z",
          "iopub.status.idle": "2024-08-21T16:12:20.994578Z",
          "shell.execute_reply.started": "2024-08-21T16:11:58.734986Z",
          "shell.execute_reply": "2024-08-21T16:12:20.993216Z"
        },
        "trusted": true,
        "colab": {
          "base_uri": "https://localhost:8080/"
        },
        "id": "UI_dtpFRxZrt",
        "outputId": "13c6cff8-c24e-4740-f4b4-16540e9a6f72"
      },
      "execution_count": 4,
      "outputs": [
        {
          "output_type": "stream",
          "name": "stdout",
          "text": [
            "Train data shape: (3116945, 22)\n",
            "Test data shape: (2077964, 21)\n"
          ]
        }
      ]
    },
    {
      "cell_type": "code",
      "source": [
        "# 3. 결측값 분석 및 시각화\n",
        "missing_data = df_train.isnull().sum().sort_values(ascending=False)\n",
        "missing_percentage = (missing_data / len(df_train)) * 100\n",
        "missing_df = pd.DataFrame({'Missing Values': missing_data, 'Percentage': missing_percentage})\n",
        "missing_df = missing_df[missing_df['Missing Values'] > 0]\n",
        "print(\"Missing values and their percentage:\\n\", missing_df)\n",
        "\n",
        "plt.figure(figsize=(14, 8))\n",
        "sns.heatmap(df_train.isnull(), cbar=False, cmap=\"viridis\", yticklabels=False)\n",
        "plt.title(\"Missing Values Heatmap\")\n",
        "plt.show()\n",
        "\n",
        "plt.figure(figsize=(10, 6))\n",
        "sns.barplot(x=missing_df.index, y=missing_df['Percentage'])\n",
        "plt.xticks(rotation=90)\n",
        "plt.title(\"Percentage of Missing Values by Feature\")\n",
        "plt.show()"
      ],
      "metadata": {
        "execution": {
          "iopub.status.busy": "2024-08-21T16:12:20.998011Z",
          "iopub.execute_input": "2024-08-21T16:12:20.999238Z",
          "iopub.status.idle": "2024-08-21T16:13:39.063735Z",
          "shell.execute_reply.started": "2024-08-21T16:12:20.999191Z",
          "shell.execute_reply": "2024-08-21T16:13:39.062569Z"
        },
        "trusted": true,
        "colab": {
          "base_uri": "https://localhost:8080/",
          "height": 1000
        },
        "id": "5XAyJzvGxZru",
        "outputId": "f066ef7b-a764-478a-efa3-673441dc9952"
      },
      "execution_count": 5,
      "outputs": [
        {
          "output_type": "stream",
          "name": "stdout",
          "text": [
            "Missing values and their percentage:\n",
            "                       Missing Values  Percentage\n",
            "veil-type                    2957493   94.884350\n",
            "spore-print-color            2849682   91.425482\n",
            "stem-root                    2757023   88.452732\n",
            "veil-color                   2740947   87.936970\n",
            "stem-surface                 1980861   63.551362\n",
            "gill-spacing                 1258435   40.373988\n",
            "cap-surface                   671023   21.528227\n",
            "gill-attachment               523936   16.809280\n",
            "ring-type                     128880    4.134818\n",
            "gill-color                        57    0.001829\n",
            "habitat                           45    0.001444\n",
            "cap-shape                         40    0.001283\n",
            "stem-color                        38    0.001219\n",
            "has-ring                          24    0.000770\n",
            "cap-color                         12    0.000385\n",
            "does-bruise-or-bleed               8    0.000257\n",
            "cap-diameter                       4    0.000128\n"
          ]
        },
        {
          "output_type": "display_data",
          "data": {
            "text/plain": [
              "<Figure size 1400x800 with 1 Axes>"
            ],
            "image/png": "[encoded data removed]"
          },
          "metadata": {}
        },
        {
          "output_type": "display_data",
          "data": {
            "text/plain": [
              "<Figure size 1000x600 with 1 Axes>"
            ],
            "image/png": "[encoded data removed]"
          },
          "metadata": {}
        }
      ]
    },
    {
      "cell_type": "code",
      "source": [
        "# 4. 결측값 처리\n",
        "def fill_missing_values(df, low_cols, medium_cols, high_cols, very_high_cols):\n",
        "    for col in low_cols:\n",
        "        if df[col].dtype == \"object\":\n",
        "            df[col].fillna(df[col].mode()[0], inplace=True)\n",
        "        else:\n",
        "            df[col].fillna(df[col].median(), inplace=True)\n",
        "\n",
        "    for col in medium_cols:\n",
        "        if df[col].dtype == \"object\":\n",
        "            df[col].fillna(df[col].mode()[0], inplace=True)\n",
        "        else:\n",
        "            df[col].fillna(df[col].median(), inplace=True)\n",
        "\n",
        "    for col in high_cols:\n",
        "        if df[col].dtype == \"object\":\n",
        "            df[col].fillna(\"Unknown\", inplace=True)\n",
        "        else:\n",
        "            df[col].fillna(df[col].median(), inplace=True)\n",
        "\n",
        "    df.drop(columns=very_high_cols, inplace=True)"
      ],
      "metadata": {
        "execution": {
          "iopub.status.busy": "2024-08-21T16:13:39.065021Z",
          "iopub.execute_input": "2024-08-21T16:13:39.065401Z",
          "iopub.status.idle": "2024-08-21T16:13:39.076459Z",
          "shell.execute_reply.started": "2024-08-21T16:13:39.06537Z",
          "shell.execute_reply": "2024-08-21T16:13:39.074931Z"
        },
        "trusted": true,
        "id": "VvRnYZbrxZru"
      },
      "execution_count": 6,
      "outputs": []
    },
    {
      "cell_type": "code",
      "source": [
        "# 결측값 비율에 따른 컬럼 분류\n",
        "# 0~5퍼\n",
        "low_missing_cols = missing_df[missing_df['Percentage'] <= 5].index\n",
        "# 5~20퍼\n",
        "medium_missing_cols = missing_df[(missing_df['Percentage'] > 5) & (missing_df['Percentage'] <= 20)].index\n",
        "# 20~50퍼\n",
        "high_missing_cols = missing_df[(missing_df['Percentage'] > 20) & (missing_df['Percentage'] <= 50)].index\n",
        "# 50퍼 이상\n",
        "very_high_missing_cols = missing_df[missing_df['Percentage'] > 50].index"
      ],
      "metadata": {
        "execution": {
          "iopub.status.busy": "2024-08-21T16:13:39.078183Z",
          "iopub.execute_input": "2024-08-21T16:13:39.078639Z",
          "iopub.status.idle": "2024-08-21T16:13:39.100882Z",
          "shell.execute_reply.started": "2024-08-21T16:13:39.078598Z",
          "shell.execute_reply": "2024-08-21T16:13:39.099568Z"
        },
        "trusted": true,
        "id": "J6qO6NIbxZru"
      },
      "execution_count": 7,
      "outputs": []
    },
    {
      "cell_type": "code",
      "source": [
        "# 결측값 처리\n",
        "fill_missing_values(df_train, low_missing_cols, medium_missing_cols, high_missing_cols, very_high_missing_cols)\n",
        "print(\"Remaining missing values:\", df_train.isnull().sum().sum())"
      ],
      "metadata": {
        "execution": {
          "iopub.status.busy": "2024-08-21T16:13:39.102467Z",
          "iopub.execute_input": "2024-08-21T16:13:39.102922Z",
          "iopub.status.idle": "2024-08-21T16:13:52.025614Z",
          "shell.execute_reply.started": "2024-08-21T16:13:39.102882Z",
          "shell.execute_reply": "2024-08-21T16:13:52.024443Z"
        },
        "trusted": true,
        "colab": {
          "base_uri": "https://localhost:8080/"
        },
        "id": "Oh0exlt6xZru",
        "outputId": "785e354f-e852-4fe4-fa7f-7f3ace2ac112"
      },
      "execution_count": 8,
      "outputs": [
        {
          "output_type": "stream",
          "name": "stdout",
          "text": [
            "Remaining missing values: 0\n"
          ]
        }
      ]
    },
    {
      "cell_type": "code",
      "source": [
        "# 5. 데이터 인코딩\n",
        "# 범주형 변수 라벨 인코딩\n",
        "categorical_columns = df_train.select_dtypes(include=['object']).columns\n",
        "categorical_columns = categorical_columns.drop('class')\n",
        "\n",
        "# 결측값 처리\n",
        "for col in categorical_columns:\n",
        "    df_train[col].fillna('Unknown', inplace=True)\n",
        "    if col in df_test.columns:\n",
        "        df_test[col].fillna('Unknown', inplace=True)\n",
        "\n",
        "\n",
        "# Train과 Test 데이터를 합쳐서 인코딩\n",
        "combined_df = pd.concat([df_train[categorical_columns], df_test[categorical_columns]])\n",
        "\n",
        "\n",
        "le = LabelEncoder()\n",
        "for col in categorical_columns:\n",
        "    combined_df[col] = le.fit_transform(combined_df[col])\n",
        "    df_train[col] = combined_df[col].iloc[:df_train.shape[0]]\n",
        "    df_test[col] = combined_df[col].iloc[df_train.shape[0]:]\n",
        "\n",
        "print(\"범주형 변수 인코딩 완.\")\n"
      ],
      "metadata": {
        "execution": {
          "iopub.status.busy": "2024-08-21T16:13:52.026951Z",
          "iopub.execute_input": "2024-08-21T16:13:52.027359Z",
          "iopub.status.idle": "2024-08-21T16:14:18.550704Z",
          "shell.execute_reply.started": "2024-08-21T16:13:52.027326Z",
          "shell.execute_reply": "2024-08-21T16:14:18.549557Z"
        },
        "trusted": true,
        "colab": {
          "base_uri": "https://localhost:8080/"
        },
        "id": "57_oj14mxZru",
        "outputId": "06feddbc-5305-4f63-c8ed-05f27629b482"
      },
      "execution_count": 9,
      "outputs": [
        {
          "output_type": "stream",
          "name": "stdout",
          "text": [
            "범주형 변수 인코딩 완.\n"
          ]
        }
      ]
    },
    {
      "cell_type": "code",
      "source": [
        "# 6. 데이터 스케일링\n",
        "# 수치형 데이터 스케일링\n",
        "scaler = StandardScaler()\n",
        "\n",
        "# 수치형 컬럼 선택\n",
        "numerical_columns = df_train.select_dtypes(include=['float64', 'int64']).columns\n",
        "numerical_columns = [col for col in numerical_columns if col in df_test.columns]\n",
        "\n",
        "\n",
        "# 실제로 수치형 데이터만 남겨두기 위해 문자열이 섞인 데이터 제거\n",
        "numerical_columns_clean = []\n",
        "for col in numerical_columns:\n",
        "    try:\n",
        "        # 문자열이 섞여 있는 경우 ValueError 발생 에러처리 해줘야할듯\n",
        "        df_train[col].astype(float)\n",
        "        df_test[col].astype(float)\n",
        "        numerical_columns_clean.append(col)\n",
        "    except ValueError:\n",
        "        print(f\"Warning: {col} 컬럼에 수치형이 아닌 값이 포함되어 있어서 스케일링에서 제외\")\n",
        "\n",
        "# 데이터 스케일링 적용\n",
        "df_train[numerical_columns_clean] = scaler.fit_transform(df_train[numerical_columns_clean])\n",
        "df_test[numerical_columns_clean] = scaler.transform(df_test[numerical_columns_clean])\n",
        "\n",
        "print(\"수치형 변수 스케일링 완.\")\n"
      ],
      "metadata": {
        "execution": {
          "iopub.status.busy": "2024-08-21T16:14:18.552098Z",
          "iopub.execute_input": "2024-08-21T16:14:18.552486Z",
          "iopub.status.idle": "2024-08-21T16:14:20.921289Z",
          "shell.execute_reply.started": "2024-08-21T16:14:18.552455Z",
          "shell.execute_reply": "2024-08-21T16:14:20.920095Z"
        },
        "trusted": true,
        "colab": {
          "base_uri": "https://localhost:8080/"
        },
        "id": "nuYFMY3DxZru",
        "outputId": "40c44ba3-3a36-46d1-946d-cf7fb56ed80a"
      },
      "execution_count": 10,
      "outputs": [
        {
          "output_type": "stream",
          "name": "stdout",
          "text": [
            "수치형 변수 스케일링 완.\n"
          ]
        }
      ]
    },
    {
      "cell_type": "code",
      "source": [
        "# 7. 데이터 분할\n",
        "X = df_train.drop(columns=['class'])\n",
        "y = df_train['class']\n",
        "\n",
        "X_train, X_val, y_train, y_val = train_test_split(X, y, test_size=0.2, random_state=42)\n",
        "\n",
        "print(f\"Train set size: {X_train.shape}\")\n",
        "print(f\"Validation set size: {X_val.shape}\")"
      ],
      "metadata": {
        "execution": {
          "iopub.status.busy": "2024-08-21T16:14:20.924847Z",
          "iopub.execute_input": "2024-08-21T16:14:20.925257Z",
          "iopub.status.idle": "2024-08-21T16:14:22.766828Z",
          "shell.execute_reply.started": "2024-08-21T16:14:20.925224Z",
          "shell.execute_reply": "2024-08-21T16:14:22.765737Z"
        },
        "trusted": true,
        "colab": {
          "base_uri": "https://localhost:8080/"
        },
        "id": "SQGZQMcBxZru",
        "outputId": "cb7e0e8c-9f29-408b-de37-27ad224db99f"
      },
      "execution_count": 11,
      "outputs": [
        {
          "output_type": "stream",
          "name": "stdout",
          "text": [
            "Train set size: (2493556, 16)\n",
            "Validation set size: (623389, 16)\n"
          ]
        }
      ]
    },
    {
      "cell_type": "code",
      "source": [
        "# 8. 데이터 불균형 처리 (SMOTE 사용)\n",
        "le = LabelEncoder()\n",
        "y_train = le.fit_transform(y_train)\n",
        "\n",
        "smote = SMOTE(random_state=42)\n",
        "X_train_resampled, y_train_resampled = smote.fit_resample(X_train, y_train)\n",
        "\n",
        "print(f\"Resampled Train set size: {X_train_resampled.shape}\")\n",
        "print(f\"Resampled class distribution: {np.bincount(y_train_resampled)}\")\n"
      ],
      "metadata": {
        "execution": {
          "iopub.status.busy": "2024-08-21T16:14:22.7682Z",
          "iopub.execute_input": "2024-08-21T16:14:22.768547Z"
        },
        "trusted": true,
        "colab": {
          "base_uri": "https://localhost:8080/"
        },
        "id": "CiHIgCd9xZrv",
        "outputId": "4c986157-e7b2-4ade-dd22-8ca6216bd168"
      },
      "execution_count": 12,
      "outputs": [
        {
          "output_type": "stream",
          "name": "stdout",
          "text": [
            "Resampled Train set size: (2728808, 16)\n",
            "Resampled class distribution: [1364404 1364404]\n"
          ]
        }
      ]
    },
    {
      "cell_type": "code",
      "source": [
        "# 9. 모델 학습\n",
        "xgb_model = XGBClassifier(use_label_encoder=False, eval_metric='mlogloss', random_state=42)\n",
        "xgb_model.fit(X_train_resampled, y_train_resampled)\n",
        "\n",
        "print(\"모델 학습 완.\")\n"
      ],
      "metadata": {
        "trusted": true,
        "colab": {
          "base_uri": "https://localhost:8080/"
        },
        "id": "b1CMxew8xZrv",
        "outputId": "ac6b1c1d-b75e-4ba2-cd6c-b2a4b7b3828c"
      },
      "execution_count": 13,
      "outputs": [
        {
          "output_type": "stream",
          "name": "stdout",
          "text": [
            "모델 학습 완.\n"
          ]
        }
      ]
    },
    {
      "cell_type": "code",
      "source": [
        "# 10. 모델 평가 (필요한가,,?)\n",
        "y_val_pred = xgb_model.predict(X_val)\n",
        "y_val_pred = ['e' if pred == 0 else 'p' for pred in y_val_pred]\n",
        "\n",
        "accuracy = accuracy_score(y_val, y_val_pred)\n",
        "mcc = matthews_corrcoef(y_val, y_val_pred)\n",
        "\n",
        "print(f\"Validation Accuracy: {accuracy:.4f}\")\n",
        "print(f\"Validation MCC: {mcc:.4f}\")"
      ],
      "metadata": {
        "trusted": true,
        "colab": {
          "base_uri": "https://localhost:8080/"
        },
        "id": "ix53e4cqxZrv",
        "outputId": "9269c4cc-17b0-4a78-d1f8-253d382bd0b5"
      },
      "execution_count": 14,
      "outputs": [
        {
          "output_type": "stream",
          "name": "stdout",
          "text": [
            "Validation Accuracy: 0.9898\n",
            "Validation MCC: 0.9795\n"
          ]
        }
      ]
    },
    {
      "cell_type": "code",
      "source": [
        "# 11. 예측 및 결과 출력\n",
        "\n",
        "# 1. 원본 df_test의 id 컬럼을 따로 보관\n",
        "test_ids = df_test['id'].copy()\n",
        "\n",
        "# 2. 학습에 사용된 피처들만 df_test에 남기기 (id 컬럼은 건드리지 않음)\n",
        "common_columns = X_train.columns.intersection(df_test.columns)\n",
        "df_test_features = df_test[common_columns]\n",
        "\n",
        "# 3. 예측 수행\n",
        "test_predictions = xgb_model.predict(df_test_features)\n",
        "test_predictions = ['e' if pred == 0 else 'p' for pred in test_predictions]\n",
        "\n",
        "# 4. 보관한 id 컬럼과 예측 결과를 함께 사용해 최종 DataFrame 생성\n",
        "output = pd.DataFrame({'id': test_ids, 'class': test_predictions})\n",
        "\n",
        "# 5. id 유지 확인 ㅜㅜ\n",
        "if output['id'].equals(test_ids):\n",
        "    print(\"id 값 유지.\")\n",
        "else:\n",
        "    print(\"id 값 불일치..\")\n",
        "\n",
        "# 샘플 제출 파일 사용\n",
        "sample_submission = pd.read_csv(dirs[\"input\"] + files[\"sample_submission\"])\n",
        "\n",
        "# sample_submission에 test_predictions 값을 직접 할당\n",
        "output = sample_submission.copy()\n",
        "output['class'] = test_predictions\n",
        "\n",
        "# 결과를 CSV 파일로 저장\n",
        "output.to_csv(dirs[\"output\"] + files[\"submission\"], index=False)\n",
        "\n",
        "print(\"csv 저장 완.\")\n",
        "\n",
        "# 저장된 CSV 파일의 상위 5개 행 출력\n",
        "print(\"저장된 submission.csv 파일의 상위 5개 행:\")\n",
        "print(output.head())\n"
      ],
      "metadata": {
        "trusted": true,
        "colab": {
          "base_uri": "https://localhost:8080/"
        },
        "id": "lb1sjxYoxZrv",
        "outputId": "8179991c-f58c-4585-cc04-0e04a111d813"
      },
      "execution_count": 18,
      "outputs": [
        {
          "output_type": "stream",
          "name": "stdout",
          "text": [
            "id 값 유지.\n",
            "csv 저장 완.\n",
            "저장된 submission.csv 파일의 상위 5개 행:\n",
            "        id class\n",
            "0  3116945     e\n",
            "1  3116946     p\n",
            "2  3116947     p\n",
            "3  3116948     p\n",
            "4  3116949     e\n"
          ]
        }
      ]
    }
  ]
}